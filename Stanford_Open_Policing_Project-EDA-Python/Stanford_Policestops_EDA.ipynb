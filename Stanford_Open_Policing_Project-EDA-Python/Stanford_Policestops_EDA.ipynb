{
 "cells": [
  {
   "cell_type": "markdown",
   "id": "e11b32a0",
   "metadata": {},
   "source": [
    "<br>"
   ]
  },
  {
   "cell_type": "markdown",
   "id": "8324ab74",
   "metadata": {},
   "source": [
    "<br>"
   ]
  },
  {
   "cell_type": "markdown",
   "id": "4a8fe054",
   "metadata": {},
   "source": [
    "# Stanford Open Policing Project"
   ]
  },
  {
   "cell_type": "markdown",
   "id": "c846d1ee",
   "metadata": {},
   "source": [
    "<br>"
   ]
  },
  {
   "cell_type": "markdown",
   "id": "9c0b2594",
   "metadata": {},
   "source": [
    "Hello everyone ! \n",
    "\n",
    "In this notebook, we are going to do an exploratory data analysis.\n",
    "\n",
    "Let's start with importing the libraries we might need.\n",
    "\n"
   ]
  },
  {
   "cell_type": "markdown",
   "id": "a8d86243",
   "metadata": {},
   "source": [
    "<br>"
   ]
  },
  {
   "cell_type": "code",
   "execution_count": 1,
   "id": "c68fe692",
   "metadata": {},
   "outputs": [],
   "source": [
    "import numpy as np \n",
    "import pandas as pd\n",
    "import seaborn as sns\n",
    "import matplotlib.pyplot as plt\n",
    "%matplotlib inline\n",
    "import plotly \n",
    "import plotly.express as px\n",
    "import plotly.graph_objs as go\n",
    "import plotly.offline as py\n",
    "from plotly.offline import iplot\n",
    "from plotly.subplots import make_subplots\n",
    "import plotly.figure_factory as ff\n",
    "from collections import Counter\n",
    "import warnings\n",
    "warnings.filterwarnings('ignore')"
   ]
  },
  {
   "cell_type": "markdown",
   "id": "e8246da9",
   "metadata": {},
   "source": [
    "<br>"
   ]
  },
  {
   "cell_type": "markdown",
   "id": "3a40f8f9",
   "metadata": {},
   "source": [
    "After importing the libraries next step is reading the file."
   ]
  },
  {
   "cell_type": "markdown",
   "id": "1c9ebbae",
   "metadata": {},
   "source": [
    "<br>"
   ]
  },
  {
   "cell_type": "code",
   "execution_count": 2,
   "id": "85046ad3",
   "metadata": {},
   "outputs": [],
   "source": [
    "df = pd.read_csv(\"police_project.csv\")"
   ]
  },
  {
   "cell_type": "markdown",
   "id": "6e611d3d",
   "metadata": {},
   "source": [
    "<br>\n",
    "To make an efficient analysis, It is very crucial to get familiar with the dataset.\n",
    "<br> <br>"
   ]
  },
  {
   "cell_type": "code",
   "execution_count": 3,
   "id": "beaa38e5",
   "metadata": {},
   "outputs": [
    {
     "data": {
      "text/plain": [
       "(91741, 15)"
      ]
     },
     "execution_count": 3,
     "metadata": {},
     "output_type": "execute_result"
    }
   ],
   "source": [
    "df.shape"
   ]
  },
  {
   "cell_type": "markdown",
   "id": "84ca3289",
   "metadata": {},
   "source": [
    "<br>\n",
    "I personally prefer to get a sample randomly from the dataset instead of getting some data from the top so I can see if there is something strange.\n",
    "<br><br>"
   ]
  },
  {
   "cell_type": "code",
   "execution_count": 4,
   "id": "bc439272",
   "metadata": {},
   "outputs": [
    {
     "data": {
      "text/html": [
       "<div>\n",
       "<style scoped>\n",
       "    .dataframe tbody tr th:only-of-type {\n",
       "        vertical-align: middle;\n",
       "    }\n",
       "\n",
       "    .dataframe tbody tr th {\n",
       "        vertical-align: top;\n",
       "    }\n",
       "\n",
       "    .dataframe thead th {\n",
       "        text-align: right;\n",
       "    }\n",
       "</style>\n",
       "<table border=\"1\" class=\"dataframe\">\n",
       "  <thead>\n",
       "    <tr style=\"text-align: right;\">\n",
       "      <th></th>\n",
       "      <th>stop_date</th>\n",
       "      <th>stop_time</th>\n",
       "      <th>county_name</th>\n",
       "      <th>driver_gender</th>\n",
       "      <th>driver_age_raw</th>\n",
       "      <th>driver_age</th>\n",
       "      <th>driver_race</th>\n",
       "      <th>violation_raw</th>\n",
       "      <th>violation</th>\n",
       "      <th>search_conducted</th>\n",
       "      <th>search_type</th>\n",
       "      <th>stop_outcome</th>\n",
       "      <th>is_arrested</th>\n",
       "      <th>stop_duration</th>\n",
       "      <th>drugs_related_stop</th>\n",
       "    </tr>\n",
       "  </thead>\n",
       "  <tbody>\n",
       "    <tr>\n",
       "      <th>78755</th>\n",
       "      <td>2014-07-01</td>\n",
       "      <td>00:01</td>\n",
       "      <td>NaN</td>\n",
       "      <td>M</td>\n",
       "      <td>1991.0</td>\n",
       "      <td>23.0</td>\n",
       "      <td>Hispanic</td>\n",
       "      <td>Equipment/Inspection Violation</td>\n",
       "      <td>Equipment</td>\n",
       "      <td>False</td>\n",
       "      <td>NaN</td>\n",
       "      <td>Citation</td>\n",
       "      <td>False</td>\n",
       "      <td>0-15 Min</td>\n",
       "      <td>False</td>\n",
       "    </tr>\n",
       "    <tr>\n",
       "      <th>37384</th>\n",
       "      <td>2009-09-17</td>\n",
       "      <td>22:18</td>\n",
       "      <td>NaN</td>\n",
       "      <td>M</td>\n",
       "      <td>1957.0</td>\n",
       "      <td>52.0</td>\n",
       "      <td>Black</td>\n",
       "      <td>Other Traffic Violation</td>\n",
       "      <td>Moving violation</td>\n",
       "      <td>False</td>\n",
       "      <td>NaN</td>\n",
       "      <td>Citation</td>\n",
       "      <td>False</td>\n",
       "      <td>16-30 Min</td>\n",
       "      <td>False</td>\n",
       "    </tr>\n",
       "    <tr>\n",
       "      <th>36534</th>\n",
       "      <td>2009-08-02</td>\n",
       "      <td>14:45</td>\n",
       "      <td>NaN</td>\n",
       "      <td>M</td>\n",
       "      <td>1941.0</td>\n",
       "      <td>68.0</td>\n",
       "      <td>White</td>\n",
       "      <td>Speeding</td>\n",
       "      <td>Speeding</td>\n",
       "      <td>False</td>\n",
       "      <td>NaN</td>\n",
       "      <td>Citation</td>\n",
       "      <td>False</td>\n",
       "      <td>0-15 Min</td>\n",
       "      <td>False</td>\n",
       "    </tr>\n",
       "    <tr>\n",
       "      <th>45583</th>\n",
       "      <td>2010-10-18</td>\n",
       "      <td>12:09</td>\n",
       "      <td>NaN</td>\n",
       "      <td>M</td>\n",
       "      <td>1977.0</td>\n",
       "      <td>33.0</td>\n",
       "      <td>White</td>\n",
       "      <td>Speeding</td>\n",
       "      <td>Speeding</td>\n",
       "      <td>False</td>\n",
       "      <td>NaN</td>\n",
       "      <td>Citation</td>\n",
       "      <td>False</td>\n",
       "      <td>0-15 Min</td>\n",
       "      <td>False</td>\n",
       "    </tr>\n",
       "    <tr>\n",
       "      <th>63681</th>\n",
       "      <td>2012-09-13</td>\n",
       "      <td>15:05</td>\n",
       "      <td>NaN</td>\n",
       "      <td>M</td>\n",
       "      <td>1965.0</td>\n",
       "      <td>47.0</td>\n",
       "      <td>White</td>\n",
       "      <td>Speeding</td>\n",
       "      <td>Speeding</td>\n",
       "      <td>False</td>\n",
       "      <td>NaN</td>\n",
       "      <td>Citation</td>\n",
       "      <td>False</td>\n",
       "      <td>0-15 Min</td>\n",
       "      <td>False</td>\n",
       "    </tr>\n",
       "  </tbody>\n",
       "</table>\n",
       "</div>"
      ],
      "text/plain": [
       "        stop_date stop_time  county_name driver_gender  driver_age_raw  \\\n",
       "78755  2014-07-01     00:01          NaN             M          1991.0   \n",
       "37384  2009-09-17     22:18          NaN             M          1957.0   \n",
       "36534  2009-08-02     14:45          NaN             M          1941.0   \n",
       "45583  2010-10-18     12:09          NaN             M          1977.0   \n",
       "63681  2012-09-13     15:05          NaN             M          1965.0   \n",
       "\n",
       "       driver_age driver_race                   violation_raw  \\\n",
       "78755        23.0    Hispanic  Equipment/Inspection Violation   \n",
       "37384        52.0       Black         Other Traffic Violation   \n",
       "36534        68.0       White                        Speeding   \n",
       "45583        33.0       White                        Speeding   \n",
       "63681        47.0       White                        Speeding   \n",
       "\n",
       "              violation  search_conducted search_type stop_outcome  \\\n",
       "78755         Equipment             False         NaN     Citation   \n",
       "37384  Moving violation             False         NaN     Citation   \n",
       "36534          Speeding             False         NaN     Citation   \n",
       "45583          Speeding             False         NaN     Citation   \n",
       "63681          Speeding             False         NaN     Citation   \n",
       "\n",
       "      is_arrested stop_duration  drugs_related_stop  \n",
       "78755       False      0-15 Min               False  \n",
       "37384       False     16-30 Min               False  \n",
       "36534       False      0-15 Min               False  \n",
       "45583       False      0-15 Min               False  \n",
       "63681       False      0-15 Min               False  "
      ]
     },
     "execution_count": 4,
     "metadata": {},
     "output_type": "execute_result"
    }
   ],
   "source": [
    "df.sample(5)"
   ]
  },
  {
   "cell_type": "code",
   "execution_count": 5,
   "id": "c756637c",
   "metadata": {},
   "outputs": [
    {
     "name": "stdout",
     "output_type": "stream",
     "text": [
      "<class 'pandas.core.frame.DataFrame'>\n",
      "RangeIndex: 91741 entries, 0 to 91740\n",
      "Data columns (total 15 columns):\n",
      " #   Column              Non-Null Count  Dtype  \n",
      "---  ------              --------------  -----  \n",
      " 0   stop_date           91741 non-null  object \n",
      " 1   stop_time           91741 non-null  object \n",
      " 2   county_name         0 non-null      float64\n",
      " 3   driver_gender       86406 non-null  object \n",
      " 4   driver_age_raw      86414 non-null  float64\n",
      " 5   driver_age          86120 non-null  float64\n",
      " 6   driver_race         86408 non-null  object \n",
      " 7   violation_raw       86408 non-null  object \n",
      " 8   violation           86408 non-null  object \n",
      " 9   search_conducted    91741 non-null  bool   \n",
      " 10  search_type         3196 non-null   object \n",
      " 11  stop_outcome        86408 non-null  object \n",
      " 12  is_arrested         86408 non-null  object \n",
      " 13  stop_duration       86408 non-null  object \n",
      " 14  drugs_related_stop  91741 non-null  bool   \n",
      "dtypes: bool(2), float64(3), object(10)\n",
      "memory usage: 9.3+ MB\n"
     ]
    }
   ],
   "source": [
    "df.info()"
   ]
  },
  {
   "cell_type": "markdown",
   "id": "d97edd18",
   "metadata": {},
   "source": [
    "<br>\n",
    "There are some info about the dataset right above. <br><br>\n",
    "\n",
    "- According to that we have some columns which consist of null values in and some columns which almost don't have any non-null value in. It would be benefical to get rid of those columns when we start cleaning out data.\n",
    "<br><br>\n",
    "- Also another thing that draw my attention is there are some columns includes date-time but their data type is object which doesn't help and some columns which have numeric values but their data type are object too. \n",
    "<br><br>\n",
    "\n",
    "I always make a 'To Do List' before start cleaning the data. Thus I do not forget or skip any step during cleaning."
   ]
  },
  {
   "cell_type": "markdown",
   "id": "e3f79139",
   "metadata": {},
   "source": [
    "- I am going to explore every column one by one to make sure there is nothing important that I do not notice. \n",
    "<br>\n",
    "\n",
    "- Then as a next step with the results I will make my 'To Do List'.\n",
    "<br>\n",
    "- One more thing I would like to share is, it is very important that not working on your actual dataset to prevent undesirable incidents. Always get a copy of you dataset and work on it."
   ]
  },
  {
   "cell_type": "code",
   "execution_count": 6,
   "id": "1b966662",
   "metadata": {},
   "outputs": [],
   "source": [
    "df1 = df.copy()"
   ]
  },
  {
   "cell_type": "code",
   "execution_count": 7,
   "id": "7b518342",
   "metadata": {},
   "outputs": [
    {
     "data": {
      "text/plain": [
       "Index(['stop_date', 'stop_time', 'county_name', 'driver_gender',\n",
       "       'driver_age_raw', 'driver_age', 'driver_race', 'violation_raw',\n",
       "       'violation', 'search_conducted', 'search_type', 'stop_outcome',\n",
       "       'is_arrested', 'stop_duration', 'drugs_related_stop'],\n",
       "      dtype='object')"
      ]
     },
     "execution_count": 7,
     "metadata": {},
     "output_type": "execute_result"
    }
   ],
   "source": [
    "df1.columns"
   ]
  },
  {
   "cell_type": "code",
   "execution_count": 8,
   "id": "f3aa922a",
   "metadata": {},
   "outputs": [
    {
     "data": {
      "text/plain": [
       "stop_date                 0\n",
       "stop_time                 0\n",
       "county_name           91741\n",
       "driver_gender          5335\n",
       "driver_age_raw         5327\n",
       "driver_age             5621\n",
       "driver_race            5333\n",
       "violation_raw          5333\n",
       "violation              5333\n",
       "search_conducted          0\n",
       "search_type           88545\n",
       "stop_outcome           5333\n",
       "is_arrested            5333\n",
       "stop_duration          5333\n",
       "drugs_related_stop        0\n",
       "dtype: int64"
      ]
     },
     "execution_count": 8,
     "metadata": {},
     "output_type": "execute_result"
    }
   ],
   "source": [
    "df1.isnull().sum()"
   ]
  },
  {
   "cell_type": "markdown",
   "id": "87d045f7",
   "metadata": {},
   "source": [
    "- As you can see, county_name column do not have any non-null value and also the search_type column almost consists of null values."
   ]
  },
  {
   "cell_type": "markdown",
   "id": "998056a3",
   "metadata": {},
   "source": [
    "## To Do List\n",
    "\n",
    "1. Change the dtype of stop_date and stop_time columns.\n",
    "2. Drop the column county_name.\n",
    "3. Driver_age_raw and Driver_age columns are the same, only one of them has more missing value. We can drop one of them.\n",
    "4. It is the same for violation_raw and violation column. Better to drop one of them.\n",
    "5. Search_type columns has so many missing values, we can drop it as weel.\n",
    "6. is_arrested column better to be bool."
   ]
  },
  {
   "cell_type": "markdown",
   "id": "7b80624b",
   "metadata": {},
   "source": [
    "Since we have specified the steps we are going to do for the purpose of cleaning the dataset we can get going."
   ]
  },
  {
   "cell_type": "markdown",
   "id": "33e5df4c",
   "metadata": {},
   "source": [
    "<br>"
   ]
  },
  {
   "cell_type": "markdown",
   "id": "3f6c1fcc",
   "metadata": {},
   "source": [
    "## *Data Cleaning*"
   ]
  },
  {
   "cell_type": "markdown",
   "id": "1f37f173",
   "metadata": {},
   "source": [
    "<br>"
   ]
  },
  {
   "cell_type": "markdown",
   "id": "53189759",
   "metadata": {},
   "source": [
    "### Stop_date - Stop_time"
   ]
  },
  {
   "cell_type": "code",
   "execution_count": 9,
   "id": "58056a5c",
   "metadata": {},
   "outputs": [],
   "source": [
    "df1['stop_date'] = pd.to_datetime(df1.stop_date)"
   ]
  },
  {
   "cell_type": "code",
   "execution_count": 10,
   "id": "0dd6b95a",
   "metadata": {},
   "outputs": [
    {
     "data": {
      "text/plain": [
       "0       2005-01-02\n",
       "1       2005-01-18\n",
       "2       2005-01-23\n",
       "3       2005-02-20\n",
       "4       2005-03-14\n",
       "           ...    \n",
       "91736   2015-12-31\n",
       "91737   2015-12-31\n",
       "91738   2015-12-31\n",
       "91739   2015-12-31\n",
       "91740   2015-12-31\n",
       "Name: stop_date, Length: 91741, dtype: datetime64[ns]"
      ]
     },
     "execution_count": 10,
     "metadata": {},
     "output_type": "execute_result"
    }
   ],
   "source": [
    "df1.stop_date"
   ]
  },
  {
   "cell_type": "code",
   "execution_count": 11,
   "id": "2767386e",
   "metadata": {},
   "outputs": [],
   "source": [
    "df1['stop_time'] = pd.to_datetime(df1['stop_time'], format='%H:%M').dt.hour"
   ]
  },
  {
   "cell_type": "code",
   "execution_count": 12,
   "id": "b6f58657",
   "metadata": {},
   "outputs": [
    {
     "data": {
      "text/plain": [
       "0         1\n",
       "1         8\n",
       "2        23\n",
       "3        17\n",
       "4        10\n",
       "         ..\n",
       "91736    20\n",
       "91737    20\n",
       "91738    20\n",
       "91739    21\n",
       "91740    22\n",
       "Name: stop_time, Length: 91741, dtype: int64"
      ]
     },
     "execution_count": 12,
     "metadata": {},
     "output_type": "execute_result"
    }
   ],
   "source": [
    "df1.stop_time"
   ]
  },
  {
   "cell_type": "markdown",
   "id": "057d0615",
   "metadata": {},
   "source": [
    "<br>"
   ]
  },
  {
   "cell_type": "markdown",
   "id": "96301512",
   "metadata": {},
   "source": [
    "### County_name"
   ]
  },
  {
   "cell_type": "code",
   "execution_count": 13,
   "id": "ceb380ac",
   "metadata": {},
   "outputs": [],
   "source": [
    "df1.drop('county_name',axis = 1, inplace = True)"
   ]
  },
  {
   "cell_type": "code",
   "execution_count": 14,
   "id": "690ca510",
   "metadata": {},
   "outputs": [
    {
     "data": {
      "text/plain": [
       "Index(['stop_date', 'stop_time', 'driver_gender', 'driver_age_raw',\n",
       "       'driver_age', 'driver_race', 'violation_raw', 'violation',\n",
       "       'search_conducted', 'search_type', 'stop_outcome', 'is_arrested',\n",
       "       'stop_duration', 'drugs_related_stop'],\n",
       "      dtype='object')"
      ]
     },
     "execution_count": 14,
     "metadata": {},
     "output_type": "execute_result"
    }
   ],
   "source": [
    "df1.columns"
   ]
  },
  {
   "cell_type": "markdown",
   "id": "1b8f308a",
   "metadata": {},
   "source": [
    "<br>"
   ]
  },
  {
   "cell_type": "markdown",
   "id": "89f3b182",
   "metadata": {},
   "source": [
    "### Driver_age_raw - Driver_age"
   ]
  },
  {
   "cell_type": "code",
   "execution_count": 15,
   "id": "6323ec86",
   "metadata": {},
   "outputs": [
    {
     "data": {
      "text/plain": [
       "5621"
      ]
     },
     "execution_count": 15,
     "metadata": {},
     "output_type": "execute_result"
    }
   ],
   "source": [
    "df1.driver_age.isnull().sum()"
   ]
  },
  {
   "cell_type": "code",
   "execution_count": 16,
   "id": "2e900665",
   "metadata": {},
   "outputs": [
    {
     "data": {
      "text/plain": [
       "5327"
      ]
     },
     "execution_count": 16,
     "metadata": {},
     "output_type": "execute_result"
    }
   ],
   "source": [
    "df1.driver_age_raw.isnull().sum()"
   ]
  },
  {
   "cell_type": "code",
   "execution_count": 17,
   "id": "8d5e9f43",
   "metadata": {},
   "outputs": [
    {
     "data": {
      "text/plain": [
       "0       2005-01-02\n",
       "1       2005-01-18\n",
       "2       2005-01-23\n",
       "3       2005-02-20\n",
       "4       2005-03-14\n",
       "           ...    \n",
       "91718   2015-12-31\n",
       "91717   2015-12-31\n",
       "91739   2015-12-31\n",
       "91727   2015-12-31\n",
       "91740   2015-12-31\n",
       "Name: stop_date, Length: 91741, dtype: datetime64[ns]"
      ]
     },
     "execution_count": 17,
     "metadata": {},
     "output_type": "execute_result"
    }
   ],
   "source": [
    "df1.stop_date.sort_values()"
   ]
  },
  {
   "cell_type": "code",
   "execution_count": 18,
   "id": "ab7e791e",
   "metadata": {},
   "outputs": [
    {
     "data": {
      "text/html": [
       "<div>\n",
       "<style scoped>\n",
       "    .dataframe tbody tr th:only-of-type {\n",
       "        vertical-align: middle;\n",
       "    }\n",
       "\n",
       "    .dataframe tbody tr th {\n",
       "        vertical-align: top;\n",
       "    }\n",
       "\n",
       "    .dataframe thead th {\n",
       "        text-align: right;\n",
       "    }\n",
       "</style>\n",
       "<table border=\"1\" class=\"dataframe\">\n",
       "  <thead>\n",
       "    <tr style=\"text-align: right;\">\n",
       "      <th></th>\n",
       "      <th>stop_date</th>\n",
       "      <th>driver_age_raw</th>\n",
       "      <th>driver_age</th>\n",
       "    </tr>\n",
       "  </thead>\n",
       "  <tbody>\n",
       "    <tr>\n",
       "      <th>146</th>\n",
       "      <td>2005-10-05</td>\n",
       "      <td>0.0</td>\n",
       "      <td>NaN</td>\n",
       "    </tr>\n",
       "    <tr>\n",
       "      <th>281</th>\n",
       "      <td>2005-10-10</td>\n",
       "      <td>0.0</td>\n",
       "      <td>NaN</td>\n",
       "    </tr>\n",
       "    <tr>\n",
       "      <th>331</th>\n",
       "      <td>2005-10-12</td>\n",
       "      <td>0.0</td>\n",
       "      <td>NaN</td>\n",
       "    </tr>\n",
       "    <tr>\n",
       "      <th>414</th>\n",
       "      <td>2005-10-17</td>\n",
       "      <td>2005.0</td>\n",
       "      <td>NaN</td>\n",
       "    </tr>\n",
       "    <tr>\n",
       "      <th>455</th>\n",
       "      <td>2005-10-18</td>\n",
       "      <td>0.0</td>\n",
       "      <td>NaN</td>\n",
       "    </tr>\n",
       "    <tr>\n",
       "      <th>...</th>\n",
       "      <td>...</td>\n",
       "      <td>...</td>\n",
       "      <td>...</td>\n",
       "    </tr>\n",
       "    <tr>\n",
       "      <th>89375</th>\n",
       "      <td>2015-09-21</td>\n",
       "      <td>0.0</td>\n",
       "      <td>NaN</td>\n",
       "    </tr>\n",
       "    <tr>\n",
       "      <th>90330</th>\n",
       "      <td>2015-10-28</td>\n",
       "      <td>0.0</td>\n",
       "      <td>NaN</td>\n",
       "    </tr>\n",
       "    <tr>\n",
       "      <th>90767</th>\n",
       "      <td>2015-11-13</td>\n",
       "      <td>0.0</td>\n",
       "      <td>NaN</td>\n",
       "    </tr>\n",
       "    <tr>\n",
       "      <th>91378</th>\n",
       "      <td>2015-12-12</td>\n",
       "      <td>0.0</td>\n",
       "      <td>NaN</td>\n",
       "    </tr>\n",
       "    <tr>\n",
       "      <th>91553</th>\n",
       "      <td>2015-12-21</td>\n",
       "      <td>0.0</td>\n",
       "      <td>NaN</td>\n",
       "    </tr>\n",
       "  </tbody>\n",
       "</table>\n",
       "<p>294 rows × 3 columns</p>\n",
       "</div>"
      ],
      "text/plain": [
       "       stop_date  driver_age_raw  driver_age\n",
       "146   2005-10-05             0.0         NaN\n",
       "281   2005-10-10             0.0         NaN\n",
       "331   2005-10-12             0.0         NaN\n",
       "414   2005-10-17          2005.0         NaN\n",
       "455   2005-10-18             0.0         NaN\n",
       "...          ...             ...         ...\n",
       "89375 2015-09-21             0.0         NaN\n",
       "90330 2015-10-28             0.0         NaN\n",
       "90767 2015-11-13             0.0         NaN\n",
       "91378 2015-12-12             0.0         NaN\n",
       "91553 2015-12-21             0.0         NaN\n",
       "\n",
       "[294 rows x 3 columns]"
      ]
     },
     "execution_count": 18,
     "metadata": {},
     "output_type": "execute_result"
    }
   ],
   "source": [
    "df1[(df1.driver_age_raw.notnull())& (df1.driver_age.isnull())][['stop_date','driver_age_raw', 'driver_age']]"
   ]
  },
  {
   "cell_type": "markdown",
   "id": "f3c70aec",
   "metadata": {},
   "source": [
    "<br>\n",
    "\n",
    "- As you can see we have 0 in driver_age_raw column which is not different than Null.\n",
    "\n",
    "<br><br>"
   ]
  },
  {
   "cell_type": "code",
   "execution_count": 19,
   "id": "4bab3724",
   "metadata": {},
   "outputs": [
    {
     "data": {
      "text/plain": [
       "0.0    257\n",
       "Name: driver_age_raw, dtype: int64"
      ]
     },
     "execution_count": 19,
     "metadata": {},
     "output_type": "execute_result"
    }
   ],
   "source": [
    "df1[df1.driver_age_raw == 0].driver_age_raw.value_counts()"
   ]
  },
  {
   "cell_type": "markdown",
   "id": "f4984317",
   "metadata": {},
   "source": [
    "- I am just going to chech if there a way to fill some of them from driver_age column."
   ]
  },
  {
   "cell_type": "code",
   "execution_count": 20,
   "id": "babf8006",
   "metadata": {},
   "outputs": [
    {
     "data": {
      "text/html": [
       "<div>\n",
       "<style scoped>\n",
       "    .dataframe tbody tr th:only-of-type {\n",
       "        vertical-align: middle;\n",
       "    }\n",
       "\n",
       "    .dataframe tbody tr th {\n",
       "        vertical-align: top;\n",
       "    }\n",
       "\n",
       "    .dataframe thead th {\n",
       "        text-align: right;\n",
       "    }\n",
       "</style>\n",
       "<table border=\"1\" class=\"dataframe\">\n",
       "  <thead>\n",
       "    <tr style=\"text-align: right;\">\n",
       "      <th></th>\n",
       "      <th>stop_date</th>\n",
       "      <th>stop_time</th>\n",
       "      <th>driver_gender</th>\n",
       "      <th>driver_age_raw</th>\n",
       "      <th>driver_age</th>\n",
       "      <th>driver_race</th>\n",
       "      <th>violation_raw</th>\n",
       "      <th>violation</th>\n",
       "      <th>search_conducted</th>\n",
       "      <th>search_type</th>\n",
       "      <th>stop_outcome</th>\n",
       "      <th>is_arrested</th>\n",
       "      <th>stop_duration</th>\n",
       "      <th>drugs_related_stop</th>\n",
       "    </tr>\n",
       "  </thead>\n",
       "  <tbody>\n",
       "  </tbody>\n",
       "</table>\n",
       "</div>"
      ],
      "text/plain": [
       "Empty DataFrame\n",
       "Columns: [stop_date, stop_time, driver_gender, driver_age_raw, driver_age, driver_race, violation_raw, violation, search_conducted, search_type, stop_outcome, is_arrested, stop_duration, drugs_related_stop]\n",
       "Index: []"
      ]
     },
     "execution_count": 20,
     "metadata": {},
     "output_type": "execute_result"
    }
   ],
   "source": [
    "df1[(df1.driver_age_raw == 0) & (df1.driver_age.notnull())]"
   ]
  },
  {
   "cell_type": "markdown",
   "id": "d125b47d",
   "metadata": {},
   "source": [
    "- And I couldn't find any value to fill them up :("
   ]
  },
  {
   "cell_type": "code",
   "execution_count": 21,
   "id": "79e23ff9",
   "metadata": {},
   "outputs": [
    {
     "data": {
      "text/plain": [
       "Int64Index([  146,   281,   331,   455,   748,   835,   893,  1479,  1740,\n",
       "             1760,\n",
       "            ...\n",
       "            86728, 86968, 87944, 88262, 89115, 89375, 90330, 90767, 91378,\n",
       "            91553],\n",
       "           dtype='int64', length=257)"
      ]
     },
     "execution_count": 21,
     "metadata": {},
     "output_type": "execute_result"
    }
   ],
   "source": [
    "zero_index_age_raw = df1[df1.driver_age_raw == 0].driver_age_raw.index\n",
    "zero_index_age_raw"
   ]
  },
  {
   "cell_type": "code",
   "execution_count": 22,
   "id": "d6b4a9e8",
   "metadata": {},
   "outputs": [],
   "source": [
    "df1['driver_age_raw'].loc[zero_index_age_raw]= df1['driver_age_raw'].loc[zero_index_age_raw].replace(0.0,np.nan)"
   ]
  },
  {
   "cell_type": "code",
   "execution_count": 23,
   "id": "8d37aef6",
   "metadata": {},
   "outputs": [
    {
     "data": {
      "text/plain": [
       "146     NaN\n",
       "281     NaN\n",
       "331     NaN\n",
       "455     NaN\n",
       "748     NaN\n",
       "         ..\n",
       "89375   NaN\n",
       "90330   NaN\n",
       "90767   NaN\n",
       "91378   NaN\n",
       "91553   NaN\n",
       "Name: driver_age_raw, Length: 257, dtype: float64"
      ]
     },
     "execution_count": 23,
     "metadata": {},
     "output_type": "execute_result"
    }
   ],
   "source": [
    "df1.loc[zero_index_age_raw].driver_age_raw"
   ]
  },
  {
   "cell_type": "code",
   "execution_count": 24,
   "id": "c64d5a30",
   "metadata": {},
   "outputs": [
    {
     "data": {
      "text/plain": [
       "5584"
      ]
     },
     "execution_count": 24,
     "metadata": {},
     "output_type": "execute_result"
    }
   ],
   "source": [
    "df1.driver_age_raw.isnull().sum()"
   ]
  },
  {
   "cell_type": "code",
   "execution_count": 25,
   "id": "88317934",
   "metadata": {},
   "outputs": [
    {
     "data": {
      "text/html": [
       "<div>\n",
       "<style scoped>\n",
       "    .dataframe tbody tr th:only-of-type {\n",
       "        vertical-align: middle;\n",
       "    }\n",
       "\n",
       "    .dataframe tbody tr th {\n",
       "        vertical-align: top;\n",
       "    }\n",
       "\n",
       "    .dataframe thead th {\n",
       "        text-align: right;\n",
       "    }\n",
       "</style>\n",
       "<table border=\"1\" class=\"dataframe\">\n",
       "  <thead>\n",
       "    <tr style=\"text-align: right;\">\n",
       "      <th></th>\n",
       "      <th>stop_date</th>\n",
       "      <th>driver_age_raw</th>\n",
       "      <th>driver_age</th>\n",
       "    </tr>\n",
       "  </thead>\n",
       "  <tbody>\n",
       "    <tr>\n",
       "      <th>414</th>\n",
       "      <td>2005-10-17</td>\n",
       "      <td>2005.0</td>\n",
       "      <td>NaN</td>\n",
       "    </tr>\n",
       "    <tr>\n",
       "      <th>3758</th>\n",
       "      <td>2006-02-06</td>\n",
       "      <td>2006.0</td>\n",
       "      <td>NaN</td>\n",
       "    </tr>\n",
       "    <tr>\n",
       "      <th>5200</th>\n",
       "      <td>2006-03-29</td>\n",
       "      <td>1997.0</td>\n",
       "      <td>NaN</td>\n",
       "    </tr>\n",
       "    <tr>\n",
       "      <th>6016</th>\n",
       "      <td>2006-04-26</td>\n",
       "      <td>2006.0</td>\n",
       "      <td>NaN</td>\n",
       "    </tr>\n",
       "    <tr>\n",
       "      <th>7397</th>\n",
       "      <td>2006-06-12</td>\n",
       "      <td>1887.0</td>\n",
       "      <td>NaN</td>\n",
       "    </tr>\n",
       "    <tr>\n",
       "      <th>8373</th>\n",
       "      <td>2006-07-17</td>\n",
       "      <td>2006.0</td>\n",
       "      <td>NaN</td>\n",
       "    </tr>\n",
       "    <tr>\n",
       "      <th>8656</th>\n",
       "      <td>2006-07-27</td>\n",
       "      <td>2006.0</td>\n",
       "      <td>NaN</td>\n",
       "    </tr>\n",
       "    <tr>\n",
       "      <th>9059</th>\n",
       "      <td>2006-08-09</td>\n",
       "      <td>2006.0</td>\n",
       "      <td>NaN</td>\n",
       "    </tr>\n",
       "    <tr>\n",
       "      <th>9359</th>\n",
       "      <td>2006-08-22</td>\n",
       "      <td>2006.0</td>\n",
       "      <td>NaN</td>\n",
       "    </tr>\n",
       "    <tr>\n",
       "      <th>10023</th>\n",
       "      <td>2006-09-12</td>\n",
       "      <td>2006.0</td>\n",
       "      <td>NaN</td>\n",
       "    </tr>\n",
       "    <tr>\n",
       "      <th>10357</th>\n",
       "      <td>2006-09-24</td>\n",
       "      <td>2004.0</td>\n",
       "      <td>NaN</td>\n",
       "    </tr>\n",
       "    <tr>\n",
       "      <th>10827</th>\n",
       "      <td>2006-10-11</td>\n",
       "      <td>2002.0</td>\n",
       "      <td>NaN</td>\n",
       "    </tr>\n",
       "    <tr>\n",
       "      <th>12972</th>\n",
       "      <td>2006-12-21</td>\n",
       "      <td>2006.0</td>\n",
       "      <td>NaN</td>\n",
       "    </tr>\n",
       "    <tr>\n",
       "      <th>14890</th>\n",
       "      <td>2007-02-21</td>\n",
       "      <td>2007.0</td>\n",
       "      <td>NaN</td>\n",
       "    </tr>\n",
       "    <tr>\n",
       "      <th>16064</th>\n",
       "      <td>2007-04-10</td>\n",
       "      <td>2007.0</td>\n",
       "      <td>NaN</td>\n",
       "    </tr>\n",
       "    <tr>\n",
       "      <th>16482</th>\n",
       "      <td>2007-04-27</td>\n",
       "      <td>2007.0</td>\n",
       "      <td>NaN</td>\n",
       "    </tr>\n",
       "    <tr>\n",
       "      <th>17964</th>\n",
       "      <td>2007-06-17</td>\n",
       "      <td>8801.0</td>\n",
       "      <td>NaN</td>\n",
       "    </tr>\n",
       "    <tr>\n",
       "      <th>18143</th>\n",
       "      <td>2007-06-24</td>\n",
       "      <td>2001.0</td>\n",
       "      <td>NaN</td>\n",
       "    </tr>\n",
       "    <tr>\n",
       "      <th>18149</th>\n",
       "      <td>2007-06-24</td>\n",
       "      <td>2005.0</td>\n",
       "      <td>NaN</td>\n",
       "    </tr>\n",
       "    <tr>\n",
       "      <th>20099</th>\n",
       "      <td>2007-09-12</td>\n",
       "      <td>2003.0</td>\n",
       "      <td>NaN</td>\n",
       "    </tr>\n",
       "    <tr>\n",
       "      <th>22157</th>\n",
       "      <td>2007-12-06</td>\n",
       "      <td>2006.0</td>\n",
       "      <td>NaN</td>\n",
       "    </tr>\n",
       "    <tr>\n",
       "      <th>23262</th>\n",
       "      <td>2008-01-23</td>\n",
       "      <td>1998.0</td>\n",
       "      <td>NaN</td>\n",
       "    </tr>\n",
       "    <tr>\n",
       "      <th>24045</th>\n",
       "      <td>2008-02-24</td>\n",
       "      <td>2005.0</td>\n",
       "      <td>NaN</td>\n",
       "    </tr>\n",
       "    <tr>\n",
       "      <th>25950</th>\n",
       "      <td>2008-05-20</td>\n",
       "      <td>1997.0</td>\n",
       "      <td>NaN</td>\n",
       "    </tr>\n",
       "    <tr>\n",
       "      <th>26239</th>\n",
       "      <td>2008-05-29</td>\n",
       "      <td>2007.0</td>\n",
       "      <td>NaN</td>\n",
       "    </tr>\n",
       "    <tr>\n",
       "      <th>26437</th>\n",
       "      <td>2008-06-06</td>\n",
       "      <td>2007.0</td>\n",
       "      <td>NaN</td>\n",
       "    </tr>\n",
       "    <tr>\n",
       "      <th>28872</th>\n",
       "      <td>2008-09-11</td>\n",
       "      <td>2008.0</td>\n",
       "      <td>NaN</td>\n",
       "    </tr>\n",
       "    <tr>\n",
       "      <th>30350</th>\n",
       "      <td>2008-11-12</td>\n",
       "      <td>2008.0</td>\n",
       "      <td>NaN</td>\n",
       "    </tr>\n",
       "    <tr>\n",
       "      <th>31606</th>\n",
       "      <td>2009-01-09</td>\n",
       "      <td>2006.0</td>\n",
       "      <td>NaN</td>\n",
       "    </tr>\n",
       "    <tr>\n",
       "      <th>37738</th>\n",
       "      <td>2009-10-07</td>\n",
       "      <td>2009.0</td>\n",
       "      <td>NaN</td>\n",
       "    </tr>\n",
       "    <tr>\n",
       "      <th>37779</th>\n",
       "      <td>2009-10-10</td>\n",
       "      <td>2919.0</td>\n",
       "      <td>NaN</td>\n",
       "    </tr>\n",
       "    <tr>\n",
       "      <th>37818</th>\n",
       "      <td>2009-10-11</td>\n",
       "      <td>2004.0</td>\n",
       "      <td>NaN</td>\n",
       "    </tr>\n",
       "    <tr>\n",
       "      <th>39125</th>\n",
       "      <td>2009-12-18</td>\n",
       "      <td>2000.0</td>\n",
       "      <td>NaN</td>\n",
       "    </tr>\n",
       "    <tr>\n",
       "      <th>53160</th>\n",
       "      <td>2011-10-13</td>\n",
       "      <td>1997.0</td>\n",
       "      <td>NaN</td>\n",
       "    </tr>\n",
       "    <tr>\n",
       "      <th>56377</th>\n",
       "      <td>2012-02-05</td>\n",
       "      <td>2011.0</td>\n",
       "      <td>NaN</td>\n",
       "    </tr>\n",
       "    <tr>\n",
       "      <th>58284</th>\n",
       "      <td>2012-03-26</td>\n",
       "      <td>2009.0</td>\n",
       "      <td>NaN</td>\n",
       "    </tr>\n",
       "    <tr>\n",
       "      <th>66876</th>\n",
       "      <td>2013-02-04</td>\n",
       "      <td>2013.0</td>\n",
       "      <td>NaN</td>\n",
       "    </tr>\n",
       "  </tbody>\n",
       "</table>\n",
       "</div>"
      ],
      "text/plain": [
       "       stop_date  driver_age_raw  driver_age\n",
       "414   2005-10-17          2005.0         NaN\n",
       "3758  2006-02-06          2006.0         NaN\n",
       "5200  2006-03-29          1997.0         NaN\n",
       "6016  2006-04-26          2006.0         NaN\n",
       "7397  2006-06-12          1887.0         NaN\n",
       "8373  2006-07-17          2006.0         NaN\n",
       "8656  2006-07-27          2006.0         NaN\n",
       "9059  2006-08-09          2006.0         NaN\n",
       "9359  2006-08-22          2006.0         NaN\n",
       "10023 2006-09-12          2006.0         NaN\n",
       "10357 2006-09-24          2004.0         NaN\n",
       "10827 2006-10-11          2002.0         NaN\n",
       "12972 2006-12-21          2006.0         NaN\n",
       "14890 2007-02-21          2007.0         NaN\n",
       "16064 2007-04-10          2007.0         NaN\n",
       "16482 2007-04-27          2007.0         NaN\n",
       "17964 2007-06-17          8801.0         NaN\n",
       "18143 2007-06-24          2001.0         NaN\n",
       "18149 2007-06-24          2005.0         NaN\n",
       "20099 2007-09-12          2003.0         NaN\n",
       "22157 2007-12-06          2006.0         NaN\n",
       "23262 2008-01-23          1998.0         NaN\n",
       "24045 2008-02-24          2005.0         NaN\n",
       "25950 2008-05-20          1997.0         NaN\n",
       "26239 2008-05-29          2007.0         NaN\n",
       "26437 2008-06-06          2007.0         NaN\n",
       "28872 2008-09-11          2008.0         NaN\n",
       "30350 2008-11-12          2008.0         NaN\n",
       "31606 2009-01-09          2006.0         NaN\n",
       "37738 2009-10-07          2009.0         NaN\n",
       "37779 2009-10-10          2919.0         NaN\n",
       "37818 2009-10-11          2004.0         NaN\n",
       "39125 2009-12-18          2000.0         NaN\n",
       "53160 2011-10-13          1997.0         NaN\n",
       "56377 2012-02-05          2011.0         NaN\n",
       "58284 2012-03-26          2009.0         NaN\n",
       "66876 2013-02-04          2013.0         NaN"
      ]
     },
     "execution_count": 25,
     "metadata": {},
     "output_type": "execute_result"
    }
   ],
   "source": [
    "df1[(df1.driver_age_raw.notnull()) & (df1.driver_age.isnull())][['stop_date','driver_age_raw', 'driver_age']]"
   ]
  },
  {
   "cell_type": "code",
   "execution_count": 26,
   "id": "401a0b74",
   "metadata": {},
   "outputs": [],
   "source": [
    "df1.drop('driver_age_raw',axis = 1, inplace = True)"
   ]
  },
  {
   "cell_type": "markdown",
   "id": "1b06eb87",
   "metadata": {},
   "source": [
    "<br>"
   ]
  },
  {
   "cell_type": "markdown",
   "id": "319ed46a",
   "metadata": {},
   "source": [
    "### Violatin_raw - Violation"
   ]
  },
  {
   "cell_type": "code",
   "execution_count": 27,
   "id": "7a86cf6e",
   "metadata": {},
   "outputs": [
    {
     "data": {
      "text/plain": [
       "Speeding                            48463\n",
       "Other Traffic Violation             16224\n",
       "Equipment/Inspection Violation      11020\n",
       "NaN                                  5333\n",
       "Registration Violation               3432\n",
       "Seatbelt Violation                   2952\n",
       "Special Detail/Directed Patrol       2455\n",
       "Call for Service                     1298\n",
       "Violation of City/Town Ordinance      211\n",
       "Motorist Assist/Courtesy              203\n",
       "APB                                    79\n",
       "Suspicious Person                      56\n",
       "Warrant                                15\n",
       "Name: violation_raw, dtype: int64"
      ]
     },
     "execution_count": 27,
     "metadata": {},
     "output_type": "execute_result"
    }
   ],
   "source": [
    "df1['violation_raw'].value_counts(dropna = False)"
   ]
  },
  {
   "cell_type": "code",
   "execution_count": 28,
   "id": "f2c0d6bd",
   "metadata": {},
   "outputs": [
    {
     "data": {
      "text/plain": [
       "Speeding               48463\n",
       "Moving violation       16224\n",
       "Equipment              11020\n",
       "NaN                     5333\n",
       "Other                   4317\n",
       "Registration/plates     3432\n",
       "Seat belt               2952\n",
       "Name: violation, dtype: int64"
      ]
     },
     "execution_count": 28,
     "metadata": {},
     "output_type": "execute_result"
    }
   ],
   "source": [
    "df1['violation'].value_counts(dropna = False)"
   ]
  },
  {
   "cell_type": "markdown",
   "id": "721768c0",
   "metadata": {},
   "source": [
    "- Even though violation column looks more orginized, I will drop violation column and reorganize violation_raw column."
   ]
  },
  {
   "cell_type": "code",
   "execution_count": 29,
   "id": "6dec0e7c",
   "metadata": {},
   "outputs": [],
   "source": [
    "def violation_org(x):\n",
    "    if x == 'Other Traffic Violation':\n",
    "        return 'Moving violation'\n",
    "    elif x in ['APB','Suspicious Person', 'Warrant', 'Motorist Assist/Courtesy', 'Violation of City/Town Ordinance']:\n",
    "        return 'Other'\n",
    "    else :\n",
    "        return x"
   ]
  },
  {
   "cell_type": "code",
   "execution_count": 30,
   "id": "33b1f7f8",
   "metadata": {},
   "outputs": [
    {
     "data": {
      "text/plain": [
       "Speeding                          48463\n",
       "Moving violation                  16224\n",
       "Equipment/Inspection Violation    11020\n",
       "Registration Violation             3432\n",
       "Seatbelt Violation                 2952\n",
       "Special Detail/Directed Patrol     2455\n",
       "Call for Service                   1298\n",
       "Other                               564\n",
       "Name: violation_raw, dtype: int64"
      ]
     },
     "execution_count": 30,
     "metadata": {},
     "output_type": "execute_result"
    }
   ],
   "source": [
    "df1.violation_raw.apply(violation_org).value_counts()"
   ]
  },
  {
   "cell_type": "code",
   "execution_count": 31,
   "id": "ea09d724",
   "metadata": {},
   "outputs": [],
   "source": [
    "df1.violation = df1.violation_raw.apply(violation_org) "
   ]
  },
  {
   "cell_type": "code",
   "execution_count": 32,
   "id": "7c6bf38f",
   "metadata": {},
   "outputs": [
    {
     "data": {
      "text/plain": [
       "Speeding                          48463\n",
       "Moving violation                  16224\n",
       "Equipment/Inspection Violation    11020\n",
       "Registration Violation             3432\n",
       "Seatbelt Violation                 2952\n",
       "Special Detail/Directed Patrol     2455\n",
       "Call for Service                   1298\n",
       "Other                               564\n",
       "Name: violation, dtype: int64"
      ]
     },
     "execution_count": 32,
     "metadata": {},
     "output_type": "execute_result"
    }
   ],
   "source": [
    "df1.violation.value_counts()"
   ]
  },
  {
   "cell_type": "code",
   "execution_count": 33,
   "id": "62ca9097",
   "metadata": {},
   "outputs": [],
   "source": [
    "df1.drop('violation_raw', axis = 1, inplace = True)"
   ]
  },
  {
   "cell_type": "markdown",
   "id": "7864ba5c",
   "metadata": {},
   "source": [
    "<br>"
   ]
  },
  {
   "cell_type": "markdown",
   "id": "c78f8d4f",
   "metadata": {},
   "source": [
    "### Search Type"
   ]
  },
  {
   "cell_type": "code",
   "execution_count": 34,
   "id": "d4f95a67",
   "metadata": {},
   "outputs": [
    {
     "data": {
      "text/plain": [
       "NaN                                                         88545\n",
       "Incident to Arrest                                           1219\n",
       "Probable Cause                                                891\n",
       "Inventory                                                     220\n",
       "Reasonable Suspicion                                          197\n",
       "Protective Frisk                                              161\n",
       "Incident to Arrest,Inventory                                  129\n",
       "Incident to Arrest,Probable Cause                             106\n",
       "Probable Cause,Reasonable Suspicion                            75\n",
       "Incident to Arrest,Inventory,Probable Cause                    34\n",
       "Probable Cause,Protective Frisk                                33\n",
       "Incident to Arrest,Protective Frisk                            33\n",
       "Inventory,Probable Cause                                       22\n",
       "Incident to Arrest,Reasonable Suspicion                        13\n",
       "Inventory,Protective Frisk                                     11\n",
       "Incident to Arrest,Inventory,Protective Frisk                  11\n",
       "Protective Frisk,Reasonable Suspicion                          11\n",
       "Incident to Arrest,Probable Cause,Protective Frisk             10\n",
       "Incident to Arrest,Probable Cause,Reasonable Suspicion          6\n",
       "Incident to Arrest,Inventory,Reasonable Suspicion               4\n",
       "Inventory,Reasonable Suspicion                                  4\n",
       "Inventory,Probable Cause,Protective Frisk                       2\n",
       "Inventory,Probable Cause,Reasonable Suspicion                   2\n",
       "Incident to Arrest,Protective Frisk,Reasonable Suspicion        1\n",
       "Probable Cause,Protective Frisk,Reasonable Suspicion            1\n",
       "Name: search_type, dtype: int64"
      ]
     },
     "execution_count": 34,
     "metadata": {},
     "output_type": "execute_result"
    }
   ],
   "source": [
    "df1.search_type.value_counts(dropna = False)"
   ]
  },
  {
   "cell_type": "markdown",
   "id": "df792185",
   "metadata": {},
   "source": [
    "- Since there are so many missing values in this column we are going to drop it."
   ]
  },
  {
   "cell_type": "code",
   "execution_count": 35,
   "id": "06ae4e43",
   "metadata": {},
   "outputs": [],
   "source": [
    "df1.drop('search_type', axis = 1, inplace = True)"
   ]
  },
  {
   "cell_type": "markdown",
   "id": "a4d20d5d",
   "metadata": {},
   "source": [
    "<br>"
   ]
  },
  {
   "cell_type": "markdown",
   "id": "18137190",
   "metadata": {},
   "source": [
    "### Is_arrested"
   ]
  },
  {
   "cell_type": "code",
   "execution_count": 36,
   "id": "7aaef7d5",
   "metadata": {},
   "outputs": [
    {
     "data": {
      "text/plain": [
       "0        False\n",
       "1        False\n",
       "2        False\n",
       "3         True\n",
       "4        False\n",
       "         ...  \n",
       "91736    False\n",
       "91737    False\n",
       "91738    False\n",
       "91739    False\n",
       "91740    False\n",
       "Name: is_arrested, Length: 91741, dtype: object"
      ]
     },
     "execution_count": 36,
     "metadata": {},
     "output_type": "execute_result"
    }
   ],
   "source": [
    "df1.is_arrested"
   ]
  },
  {
   "cell_type": "code",
   "execution_count": 37,
   "id": "8b02ddae",
   "metadata": {},
   "outputs": [],
   "source": [
    "df1.is_arrested = df1.is_arrested.astype('bool')"
   ]
  },
  {
   "cell_type": "code",
   "execution_count": 38,
   "id": "48d58de5",
   "metadata": {},
   "outputs": [
    {
     "data": {
      "text/plain": [
       "dtype('bool')"
      ]
     },
     "execution_count": 38,
     "metadata": {},
     "output_type": "execute_result"
    }
   ],
   "source": [
    "df1.is_arrested.dtype"
   ]
  },
  {
   "cell_type": "markdown",
   "id": "751d31cd",
   "metadata": {},
   "source": [
    "<br>"
   ]
  },
  {
   "cell_type": "code",
   "execution_count": 39,
   "id": "9b6a3f6f",
   "metadata": {},
   "outputs": [
    {
     "name": "stdout",
     "output_type": "stream",
     "text": [
      "<class 'pandas.core.frame.DataFrame'>\n",
      "RangeIndex: 91741 entries, 0 to 91740\n",
      "Data columns (total 11 columns):\n",
      " #   Column              Non-Null Count  Dtype         \n",
      "---  ------              --------------  -----         \n",
      " 0   stop_date           91741 non-null  datetime64[ns]\n",
      " 1   stop_time           91741 non-null  int64         \n",
      " 2   driver_gender       86406 non-null  object        \n",
      " 3   driver_age          86120 non-null  float64       \n",
      " 4   driver_race         86408 non-null  object        \n",
      " 5   violation           86408 non-null  object        \n",
      " 6   search_conducted    91741 non-null  bool          \n",
      " 7   stop_outcome        86408 non-null  object        \n",
      " 8   is_arrested         91741 non-null  bool          \n",
      " 9   stop_duration       86408 non-null  object        \n",
      " 10  drugs_related_stop  91741 non-null  bool          \n",
      "dtypes: bool(3), datetime64[ns](1), float64(1), int64(1), object(5)\n",
      "memory usage: 5.9+ MB\n"
     ]
    }
   ],
   "source": [
    "df1.info()"
   ]
  },
  {
   "cell_type": "code",
   "execution_count": 40,
   "id": "e8a245d3",
   "metadata": {},
   "outputs": [
    {
     "data": {
      "text/html": [
       "<div>\n",
       "<style scoped>\n",
       "    .dataframe tbody tr th:only-of-type {\n",
       "        vertical-align: middle;\n",
       "    }\n",
       "\n",
       "    .dataframe tbody tr th {\n",
       "        vertical-align: top;\n",
       "    }\n",
       "\n",
       "    .dataframe thead th {\n",
       "        text-align: right;\n",
       "    }\n",
       "</style>\n",
       "<table border=\"1\" class=\"dataframe\">\n",
       "  <thead>\n",
       "    <tr style=\"text-align: right;\">\n",
       "      <th></th>\n",
       "      <th>stop_date</th>\n",
       "      <th>stop_time</th>\n",
       "      <th>driver_gender</th>\n",
       "      <th>driver_age</th>\n",
       "      <th>driver_race</th>\n",
       "      <th>violation</th>\n",
       "      <th>search_conducted</th>\n",
       "      <th>stop_outcome</th>\n",
       "      <th>is_arrested</th>\n",
       "      <th>stop_duration</th>\n",
       "      <th>drugs_related_stop</th>\n",
       "    </tr>\n",
       "  </thead>\n",
       "  <tbody>\n",
       "    <tr>\n",
       "      <th>81945</th>\n",
       "      <td>2014-11-03</td>\n",
       "      <td>15</td>\n",
       "      <td>F</td>\n",
       "      <td>59.0</td>\n",
       "      <td>White</td>\n",
       "      <td>Equipment/Inspection Violation</td>\n",
       "      <td>False</td>\n",
       "      <td>Warning</td>\n",
       "      <td>False</td>\n",
       "      <td>0-15 Min</td>\n",
       "      <td>False</td>\n",
       "    </tr>\n",
       "    <tr>\n",
       "      <th>87299</th>\n",
       "      <td>2015-07-10</td>\n",
       "      <td>23</td>\n",
       "      <td>NaN</td>\n",
       "      <td>NaN</td>\n",
       "      <td>NaN</td>\n",
       "      <td>NaN</td>\n",
       "      <td>False</td>\n",
       "      <td>NaN</td>\n",
       "      <td>True</td>\n",
       "      <td>NaN</td>\n",
       "      <td>False</td>\n",
       "    </tr>\n",
       "    <tr>\n",
       "      <th>65214</th>\n",
       "      <td>2012-11-23</td>\n",
       "      <td>18</td>\n",
       "      <td>F</td>\n",
       "      <td>40.0</td>\n",
       "      <td>White</td>\n",
       "      <td>Speeding</td>\n",
       "      <td>False</td>\n",
       "      <td>Citation</td>\n",
       "      <td>False</td>\n",
       "      <td>0-15 Min</td>\n",
       "      <td>False</td>\n",
       "    </tr>\n",
       "    <tr>\n",
       "      <th>55865</th>\n",
       "      <td>2012-01-23</td>\n",
       "      <td>8</td>\n",
       "      <td>F</td>\n",
       "      <td>23.0</td>\n",
       "      <td>White</td>\n",
       "      <td>Speeding</td>\n",
       "      <td>False</td>\n",
       "      <td>Citation</td>\n",
       "      <td>False</td>\n",
       "      <td>0-15 Min</td>\n",
       "      <td>False</td>\n",
       "    </tr>\n",
       "    <tr>\n",
       "      <th>90492</th>\n",
       "      <td>2015-11-01</td>\n",
       "      <td>16</td>\n",
       "      <td>M</td>\n",
       "      <td>24.0</td>\n",
       "      <td>Black</td>\n",
       "      <td>Equipment/Inspection Violation</td>\n",
       "      <td>False</td>\n",
       "      <td>Citation</td>\n",
       "      <td>False</td>\n",
       "      <td>0-15 Min</td>\n",
       "      <td>False</td>\n",
       "    </tr>\n",
       "  </tbody>\n",
       "</table>\n",
       "</div>"
      ],
      "text/plain": [
       "       stop_date  stop_time driver_gender  driver_age driver_race  \\\n",
       "81945 2014-11-03         15             F        59.0       White   \n",
       "87299 2015-07-10         23           NaN         NaN         NaN   \n",
       "65214 2012-11-23         18             F        40.0       White   \n",
       "55865 2012-01-23          8             F        23.0       White   \n",
       "90492 2015-11-01         16             M        24.0       Black   \n",
       "\n",
       "                            violation  search_conducted stop_outcome  \\\n",
       "81945  Equipment/Inspection Violation             False      Warning   \n",
       "87299                             NaN             False          NaN   \n",
       "65214                        Speeding             False     Citation   \n",
       "55865                        Speeding             False     Citation   \n",
       "90492  Equipment/Inspection Violation             False     Citation   \n",
       "\n",
       "       is_arrested stop_duration  drugs_related_stop  \n",
       "81945        False      0-15 Min               False  \n",
       "87299         True           NaN               False  \n",
       "65214        False      0-15 Min               False  \n",
       "55865        False      0-15 Min               False  \n",
       "90492        False      0-15 Min               False  "
      ]
     },
     "execution_count": 40,
     "metadata": {},
     "output_type": "execute_result"
    }
   ],
   "source": [
    "df1.sample(5)"
   ]
  },
  {
   "cell_type": "markdown",
   "id": "e17fe9b5",
   "metadata": {},
   "source": [
    "<br>"
   ]
  },
  {
   "cell_type": "markdown",
   "id": "f84a33ed",
   "metadata": {},
   "source": [
    "- It looks like we are done with cleaning and we can start analysing."
   ]
  },
  {
   "cell_type": "markdown",
   "id": "1f275750",
   "metadata": {},
   "source": [
    "## _Analysing_ "
   ]
  },
  {
   "cell_type": "code",
   "execution_count": 41,
   "id": "4bc6f265",
   "metadata": {},
   "outputs": [
    {
     "data": {
      "text/html": [
       "<div>\n",
       "<style scoped>\n",
       "    .dataframe tbody tr th:only-of-type {\n",
       "        vertical-align: middle;\n",
       "    }\n",
       "\n",
       "    .dataframe tbody tr th {\n",
       "        vertical-align: top;\n",
       "    }\n",
       "\n",
       "    .dataframe thead th {\n",
       "        text-align: right;\n",
       "    }\n",
       "</style>\n",
       "<table border=\"1\" class=\"dataframe\">\n",
       "  <thead>\n",
       "    <tr style=\"text-align: right;\">\n",
       "      <th></th>\n",
       "      <th>stop_date</th>\n",
       "      <th>stop_time</th>\n",
       "      <th>driver_gender</th>\n",
       "      <th>driver_age</th>\n",
       "      <th>driver_race</th>\n",
       "      <th>violation</th>\n",
       "      <th>search_conducted</th>\n",
       "      <th>stop_outcome</th>\n",
       "      <th>is_arrested</th>\n",
       "      <th>stop_duration</th>\n",
       "      <th>drugs_related_stop</th>\n",
       "    </tr>\n",
       "  </thead>\n",
       "  <tbody>\n",
       "    <tr>\n",
       "      <th>13072</th>\n",
       "      <td>2006-12-27</td>\n",
       "      <td>17</td>\n",
       "      <td>M</td>\n",
       "      <td>29.0</td>\n",
       "      <td>White</td>\n",
       "      <td>Speeding</td>\n",
       "      <td>False</td>\n",
       "      <td>Citation</td>\n",
       "      <td>False</td>\n",
       "      <td>0-15 Min</td>\n",
       "      <td>False</td>\n",
       "    </tr>\n",
       "    <tr>\n",
       "      <th>59173</th>\n",
       "      <td>2012-04-21</td>\n",
       "      <td>10</td>\n",
       "      <td>F</td>\n",
       "      <td>47.0</td>\n",
       "      <td>White</td>\n",
       "      <td>Equipment/Inspection Violation</td>\n",
       "      <td>False</td>\n",
       "      <td>Citation</td>\n",
       "      <td>False</td>\n",
       "      <td>0-15 Min</td>\n",
       "      <td>False</td>\n",
       "    </tr>\n",
       "    <tr>\n",
       "      <th>18811</th>\n",
       "      <td>2007-07-22</td>\n",
       "      <td>8</td>\n",
       "      <td>M</td>\n",
       "      <td>18.0</td>\n",
       "      <td>White</td>\n",
       "      <td>Speeding</td>\n",
       "      <td>False</td>\n",
       "      <td>Citation</td>\n",
       "      <td>False</td>\n",
       "      <td>0-15 Min</td>\n",
       "      <td>False</td>\n",
       "    </tr>\n",
       "    <tr>\n",
       "      <th>36478</th>\n",
       "      <td>2009-07-30</td>\n",
       "      <td>16</td>\n",
       "      <td>M</td>\n",
       "      <td>20.0</td>\n",
       "      <td>Black</td>\n",
       "      <td>Equipment/Inspection Violation</td>\n",
       "      <td>False</td>\n",
       "      <td>Citation</td>\n",
       "      <td>False</td>\n",
       "      <td>0-15 Min</td>\n",
       "      <td>False</td>\n",
       "    </tr>\n",
       "    <tr>\n",
       "      <th>13611</th>\n",
       "      <td>2007-01-12</td>\n",
       "      <td>17</td>\n",
       "      <td>M</td>\n",
       "      <td>51.0</td>\n",
       "      <td>White</td>\n",
       "      <td>Speeding</td>\n",
       "      <td>False</td>\n",
       "      <td>Citation</td>\n",
       "      <td>False</td>\n",
       "      <td>0-15 Min</td>\n",
       "      <td>False</td>\n",
       "    </tr>\n",
       "  </tbody>\n",
       "</table>\n",
       "</div>"
      ],
      "text/plain": [
       "       stop_date  stop_time driver_gender  driver_age driver_race  \\\n",
       "13072 2006-12-27         17             M        29.0       White   \n",
       "59173 2012-04-21         10             F        47.0       White   \n",
       "18811 2007-07-22          8             M        18.0       White   \n",
       "36478 2009-07-30         16             M        20.0       Black   \n",
       "13611 2007-01-12         17             M        51.0       White   \n",
       "\n",
       "                            violation  search_conducted stop_outcome  \\\n",
       "13072                        Speeding             False     Citation   \n",
       "59173  Equipment/Inspection Violation             False     Citation   \n",
       "18811                        Speeding             False     Citation   \n",
       "36478  Equipment/Inspection Violation             False     Citation   \n",
       "13611                        Speeding             False     Citation   \n",
       "\n",
       "       is_arrested stop_duration  drugs_related_stop  \n",
       "13072        False      0-15 Min               False  \n",
       "59173        False      0-15 Min               False  \n",
       "18811        False      0-15 Min               False  \n",
       "36478        False      0-15 Min               False  \n",
       "13611        False      0-15 Min               False  "
      ]
     },
     "execution_count": 41,
     "metadata": {},
     "output_type": "execute_result"
    }
   ],
   "source": [
    "df1.sample(5)"
   ]
  },
  {
   "cell_type": "markdown",
   "id": "6eacc6aa",
   "metadata": {},
   "source": [
    "<br>\n",
    "<br>\n",
    "\n",
    "- I am going to start with looking at stop_time column.\n",
    "<br>\n",
    "<br>"
   ]
  },
  {
   "cell_type": "markdown",
   "id": "a51ce46e",
   "metadata": {},
   "source": [
    "### Stop_time"
   ]
  },
  {
   "cell_type": "code",
   "execution_count": 42,
   "id": "1971e5cc",
   "metadata": {},
   "outputs": [
    {
     "data": {
      "image/png": "[encoded data removed]",
      "text/plain": [
       "<Figure size 864x432 with 1 Axes>"
      ]
     },
     "metadata": {
      "needs_background": "light"
     },
     "output_type": "display_data"
    }
   ],
   "source": [
    "plt.figure(figsize= (12,6))\n",
    "sns.countplot(df1.stop_time);"
   ]
  },
  {
   "cell_type": "markdown",
   "id": "9947c848",
   "metadata": {},
   "source": [
    "- As it can be clearly seen stop time is highest between 7.00 am and 11.00 am. Which can mean, while people are trying to get reach their work or their school they might be getting stopped because of speeding. \n",
    "- The lowesr rate is between 3.00 am and 5.00 am which is pretty normal because many people are asleep at that time."
   ]
  },
  {
   "cell_type": "code",
   "execution_count": 43,
   "id": "ccdbab73",
   "metadata": {},
   "outputs": [
    {
     "data": {
      "image/png": "[encoded data removed]",
      "text/plain": [
       "<Figure size 1080x432 with 2 Axes>"
      ]
     },
     "metadata": {
      "needs_background": "light"
     },
     "output_type": "display_data"
    }
   ],
   "source": [
    "plt.figure(figsize= (15,6))\n",
    "plt.subplot(1,2,1)\n",
    "sns.countplot(df1.stop_time)\n",
    "plt.title('Stop_time')\n",
    "plt.subplot(1,2,2)\n",
    "sns.countplot(df1[df1.violation == 'Speeding'].stop_time)\n",
    "plt.title('Stop_time_speeding');"
   ]
  },
  {
   "cell_type": "markdown",
   "id": "b849f28e",
   "metadata": {},
   "source": [
    "- Our prediction was correct many of stop reason in certain hours because of speeding."
   ]
  },
  {
   "cell_type": "code",
   "execution_count": 235,
   "id": "f843f5a6",
   "metadata": {},
   "outputs": [
    {
     "data": {
      "image/png": "[encoded data removed]",
      "text/plain": [
       "<Figure size 864x288 with 1 Axes>"
      ]
     },
     "metadata": {
      "needs_background": "light"
     },
     "output_type": "display_data"
    }
   ],
   "source": [
    "plt.figure(figsize=(12,4))\n",
    "sns.lineplot(df1.stop_time,df1.stop_time.index, ci = 20, hue = df1.driver_gender, dashes = True , palette = 'husl' )\n",
    "plt.xlabel(\"Hour\")\n",
    "plt.ylabel(\"Stop Rate\")\n",
    "plt.title(\"Stop Rate by Time of Day\");"
   ]
  },
  {
   "cell_type": "markdown",
   "id": "c9b1948c",
   "metadata": {},
   "source": [
    "<br>"
   ]
  },
  {
   "cell_type": "markdown",
   "id": "2ed4040d",
   "metadata": {},
   "source": [
    "##  Gender"
   ]
  },
  {
   "cell_type": "markdown",
   "id": "be5bad14",
   "metadata": {},
   "source": [
    "<br>"
   ]
  },
  {
   "cell_type": "code",
   "execution_count": 44,
   "id": "ef7bf3ca",
   "metadata": {},
   "outputs": [
    {
     "data": {
      "text/plain": [
       "M    62895\n",
       "F    23511\n",
       "Name: driver_gender, dtype: int64"
      ]
     },
     "execution_count": 44,
     "metadata": {},
     "output_type": "execute_result"
    }
   ],
   "source": [
    "df1.driver_gender.value_counts()"
   ]
  },
  {
   "cell_type": "code",
   "execution_count": 206,
   "id": "a01adc3e",
   "metadata": {},
   "outputs": [
    {
     "data": {
      "image/png": "[encoded data removed]",
      "text/plain": [
       "<Figure size 1080x432 with 1 Axes>"
      ]
     },
     "metadata": {},
     "output_type": "display_data"
    }
   ],
   "source": [
    "plt.figure(figsize = (15,6))\n",
    "plt.pie(df1.driver_gender.value_counts(), \n",
    "        labels =df1.driver_gender.value_counts().index, \n",
    "        colors = ['lightskyblue', 'lightcoral'],\n",
    "       autopct='%.1f%%');"
   ]
  },
  {
   "cell_type": "code",
   "execution_count": 234,
   "id": "959bd0f8",
   "metadata": {},
   "outputs": [
    {
     "data": {
      "image/png": "[encoded data removed]",
      "text/plain": [
       "<Figure size 720x432 with 1 Axes>"
      ]
     },
     "metadata": {
      "needs_background": "light"
     },
     "output_type": "display_data"
    }
   ],
   "source": [
    "plt.figure(figsize = (10,6))\n",
    "sns.countplot(df1.driver_gender, palette = 'husl');"
   ]
  },
  {
   "cell_type": "markdown",
   "id": "214cd666",
   "metadata": {},
   "source": [
    "- The ratio of traffic stops by gender is significantly disproportionate with males comprising the majority of cases. Can we say that means men tend to disobeying traffic rules more than women do?"
   ]
  },
  {
   "cell_type": "markdown",
   "id": "9fd872bf",
   "metadata": {},
   "source": [
    "Let's create 2 dataframes that are splitted by gender"
   ]
  },
  {
   "cell_type": "code",
   "execution_count": 85,
   "id": "62c3e555",
   "metadata": {},
   "outputs": [],
   "source": [
    "female = df1[df1.driver_gender == 'F']\n",
    "male = df1[df1.driver_gender == 'M']"
   ]
  },
  {
   "cell_type": "markdown",
   "id": "a205b15b",
   "metadata": {},
   "source": [
    "<br>"
   ]
  },
  {
   "cell_type": "markdown",
   "id": "fc959d61",
   "metadata": {},
   "source": [
    "## Driver Age"
   ]
  },
  {
   "cell_type": "code",
   "execution_count": 139,
   "id": "84f1f61e",
   "metadata": {},
   "outputs": [
    {
     "data": {
      "image/png": "[encoded data removed]",
      "text/plain": [
       "<Figure size 1080x432 with 1 Axes>"
      ]
     },
     "metadata": {
      "needs_background": "light"
     },
     "output_type": "display_data"
    }
   ],
   "source": [
    "plt.figure(figsize = (15,6))\n",
    "sns.histplot(df1.driver_age, kde = True)\n",
    "plt.xticks(rotation=90);"
   ]
  },
  {
   "cell_type": "markdown",
   "id": "eb932a18",
   "metadata": {},
   "source": [
    "- This is not something which made me surprise. Great majority of people who got pulled over consist of young people."
   ]
  },
  {
   "cell_type": "markdown",
   "id": "c99b5b07",
   "metadata": {},
   "source": [
    "#### Driver Age - Female"
   ]
  },
  {
   "cell_type": "code",
   "execution_count": 140,
   "id": "735e6cf2",
   "metadata": {},
   "outputs": [
    {
     "data": {
      "image/png": "[encoded data removed]",
      "text/plain": [
       "<Figure size 1080x432 with 1 Axes>"
      ]
     },
     "metadata": {
      "needs_background": "light"
     },
     "output_type": "display_data"
    }
   ],
   "source": [
    "plt.figure(figsize = (15,6))\n",
    "sns.histplot(female.driver_age, color = '#60CBBC', kde = True);"
   ]
  },
  {
   "cell_type": "markdown",
   "id": "158a6df8",
   "metadata": {},
   "source": [
    "- This is a puzzling result. According to this data on the age of 20 and 25 female drivers tend to get much more pulled over compared to other ages. "
   ]
  },
  {
   "cell_type": "markdown",
   "id": "d9f593ee",
   "metadata": {},
   "source": [
    "#### Driver Age - Male"
   ]
  },
  {
   "cell_type": "code",
   "execution_count": 141,
   "id": "69268f80",
   "metadata": {},
   "outputs": [
    {
     "data": {
      "image/png": "[encoded data removed]",
      "text/plain": [
       "<Figure size 1080x432 with 1 Axes>"
      ]
     },
     "metadata": {
      "needs_background": "light"
     },
     "output_type": "display_data"
    }
   ],
   "source": [
    "plt.figure(figsize = (15,6))\n",
    "sns.histplot(male.driver_age, color = '#60CBBC', kde = True);"
   ]
  },
  {
   "cell_type": "markdown",
   "id": "3dcb173c",
   "metadata": {},
   "source": [
    "- Unless the result we got from female drivers, male drivers are consistent with overall results. "
   ]
  },
  {
   "cell_type": "markdown",
   "id": "13d3888a",
   "metadata": {},
   "source": [
    "<br>"
   ]
  },
  {
   "cell_type": "markdown",
   "id": "3df2857c",
   "metadata": {},
   "source": [
    "## Violation"
   ]
  },
  {
   "cell_type": "code",
   "execution_count": 47,
   "id": "72a53181",
   "metadata": {},
   "outputs": [
    {
     "data": {
      "text/plain": [
       "Speeding                          48463\n",
       "Moving violation                  16224\n",
       "Equipment/Inspection Violation    11020\n",
       "Registration Violation             3432\n",
       "Seatbelt Violation                 2952\n",
       "Special Detail/Directed Patrol     2455\n",
       "Call for Service                   1298\n",
       "Other                               564\n",
       "Name: violation, dtype: int64"
      ]
     },
     "execution_count": 47,
     "metadata": {},
     "output_type": "execute_result"
    }
   ],
   "source": [
    "df1.violation.value_counts()"
   ]
  },
  {
   "cell_type": "code",
   "execution_count": 147,
   "id": "08a26702",
   "metadata": {},
   "outputs": [
    {
     "data": {
      "image/png": "[encoded data removed]",
      "text/plain": [
       "<Figure size 1008x432 with 1 Axes>"
      ]
     },
     "metadata": {
      "needs_background": "light"
     },
     "output_type": "display_data"
    }
   ],
   "source": [
    "plt.figure(figsize = (14,6))\n",
    "sns.countplot(df1.violation, order = df1.violation.value_counts().index, palette= 'husl')\n",
    "plt.xticks(rotation=45);"
   ]
  },
  {
   "cell_type": "markdown",
   "id": "b959147a",
   "metadata": {},
   "source": [
    "  - Do you think that there is positive discrimination for the female drivers in terms of violation? Let's get it down."
   ]
  },
  {
   "cell_type": "markdown",
   "id": "19c47323",
   "metadata": {},
   "source": [
    "### Violation by Gender"
   ]
  },
  {
   "cell_type": "markdown",
   "id": "e7da743e",
   "metadata": {},
   "source": [
    "#### Female Violation"
   ]
  },
  {
   "cell_type": "code",
   "execution_count": 123,
   "id": "c17c355f",
   "metadata": {},
   "outputs": [],
   "source": [
    "f_order = female.violation.value_counts().index"
   ]
  },
  {
   "cell_type": "code",
   "execution_count": 124,
   "id": "b068b110",
   "metadata": {},
   "outputs": [
    {
     "data": {
      "image/png": "[encoded data removed]",
      "text/plain": [
       "<Figure size 1080x432 with 1 Axes>"
      ]
     },
     "metadata": {
      "needs_background": "light"
     },
     "output_type": "display_data"
    }
   ],
   "source": [
    "plt.figure(figsize = (15,6))\n",
    "sns.countplot(female.violation, palette= 'husl', order = f_order)\n",
    "plt.xticks(rotation=45)\n",
    "plt.title('Female Violation');"
   ]
  },
  {
   "cell_type": "markdown",
   "id": "dc8c3028",
   "metadata": {},
   "source": [
    "#### Male Violation"
   ]
  },
  {
   "cell_type": "code",
   "execution_count": 127,
   "id": "9d65f517",
   "metadata": {},
   "outputs": [],
   "source": [
    "m_order = male.violation.value_counts().index"
   ]
  },
  {
   "cell_type": "code",
   "execution_count": 128,
   "id": "1ee25f46",
   "metadata": {},
   "outputs": [
    {
     "data": {
      "image/png": "[encoded data removed]",
      "text/plain": [
       "<Figure size 1080x432 with 1 Axes>"
      ]
     },
     "metadata": {
      "needs_background": "light"
     },
     "output_type": "display_data"
    }
   ],
   "source": [
    "plt.figure(figsize = (15,6))\n",
    "sns.countplot(male.violation, palette= 'husl', order = m_order)\n",
    "plt.xticks(rotation=45)\n",
    "plt.title('Male Violation');"
   ]
  },
  {
   "cell_type": "markdown",
   "id": "4d33bc71",
   "metadata": {},
   "source": [
    "- Just to make it easier them to compare let's get tehm in same chart!"
   ]
  },
  {
   "cell_type": "code",
   "execution_count": 149,
   "id": "baef9843",
   "metadata": {},
   "outputs": [
    {
     "data": {
      "image/png": "[encoded data removed]",
      "text/plain": [
       "<Figure size 1008x432 with 1 Axes>"
      ]
     },
     "metadata": {
      "needs_background": "light"
     },
     "output_type": "display_data"
    }
   ],
   "source": [
    "plt.figure(figsize = (14,6))\n",
    "sns.countplot(df1.violation, order = df1.violation.value_counts().index, palette= 'husl', hue = df1.driver_gender)\n",
    "plt.xticks(rotation=45);"
   ]
  },
  {
   "cell_type": "markdown",
   "id": "e417752b",
   "metadata": {},
   "source": [
    " There is a huge difference between female and male driver in terms of violation. Probably while some will think that it is because there is a discrimination by gender, others will think it is because the ratio of following traffic rules disproportionate with females comprising the majority. :) It is your desicion to make, I am just simply giving the numbers. :)"
   ]
  },
  {
   "cell_type": "markdown",
   "id": "8c43c417",
   "metadata": {},
   "source": [
    "<br>"
   ]
  },
  {
   "cell_type": "markdown",
   "id": "bb7a8b14",
   "metadata": {},
   "source": [
    "## Search Counducted"
   ]
  },
  {
   "cell_type": "code",
   "execution_count": 150,
   "id": "7910a9ef",
   "metadata": {},
   "outputs": [
    {
     "data": {
      "text/plain": [
       "False    88545\n",
       "True      3196\n",
       "Name: search_conducted, dtype: int64"
      ]
     },
     "execution_count": 150,
     "metadata": {},
     "output_type": "execute_result"
    }
   ],
   "source": [
    "df1.search_conducted.value_counts()"
   ]
  },
  {
   "cell_type": "code",
   "execution_count": 160,
   "id": "6a4ceabc",
   "metadata": {},
   "outputs": [
    {
     "data": {
      "text/plain": [
       "False    23040\n",
       "True       471\n",
       "Name: search_conducted, dtype: int64"
      ]
     },
     "execution_count": 160,
     "metadata": {},
     "output_type": "execute_result"
    }
   ],
   "source": [
    "female.search_conducted.value_counts()"
   ]
  },
  {
   "cell_type": "code",
   "execution_count": 161,
   "id": "213b5090",
   "metadata": {},
   "outputs": [
    {
     "data": {
      "text/plain": [
       "False    60170\n",
       "True      2725\n",
       "Name: search_conducted, dtype: int64"
      ]
     },
     "execution_count": 161,
     "metadata": {},
     "output_type": "execute_result"
    }
   ],
   "source": [
    "male.search_conducted.value_counts()"
   ]
  },
  {
   "cell_type": "code",
   "execution_count": 163,
   "id": "376cfa43",
   "metadata": {},
   "outputs": [
    {
     "data": {
      "image/png": "[encoded data removed]",
      "text/plain": [
       "<Figure size 1008x432 with 1 Axes>"
      ]
     },
     "metadata": {
      "needs_background": "light"
     },
     "output_type": "display_data"
    }
   ],
   "source": [
    "plt.figure(figsize = (14,6))\n",
    "sns.countplot(df1.search_conducted, order = df1.search_conducted.value_counts().index, palette= 'husl', hue = df1.driver_gender)\n",
    "plt.xticks(rotation=45);"
   ]
  },
  {
   "cell_type": "markdown",
   "id": "fba12e3b",
   "metadata": {},
   "source": [
    "- Very likely we are going to come up with the same dilemma but there is a remarkable difference between two genders."
   ]
  },
  {
   "cell_type": "code",
   "execution_count": 164,
   "id": "34e5f7a0",
   "metadata": {},
   "outputs": [
    {
     "data": {
      "text/html": [
       "<div>\n",
       "<style scoped>\n",
       "    .dataframe tbody tr th:only-of-type {\n",
       "        vertical-align: middle;\n",
       "    }\n",
       "\n",
       "    .dataframe tbody tr th {\n",
       "        vertical-align: top;\n",
       "    }\n",
       "\n",
       "    .dataframe thead th {\n",
       "        text-align: right;\n",
       "    }\n",
       "</style>\n",
       "<table border=\"1\" class=\"dataframe\">\n",
       "  <thead>\n",
       "    <tr style=\"text-align: right;\">\n",
       "      <th></th>\n",
       "      <th>stop_date</th>\n",
       "      <th>stop_time</th>\n",
       "      <th>driver_gender</th>\n",
       "      <th>driver_age</th>\n",
       "      <th>driver_race</th>\n",
       "      <th>violation</th>\n",
       "      <th>search_conducted</th>\n",
       "      <th>stop_outcome</th>\n",
       "      <th>is_arrested</th>\n",
       "      <th>stop_duration</th>\n",
       "      <th>drugs_related_stop</th>\n",
       "    </tr>\n",
       "  </thead>\n",
       "  <tbody>\n",
       "    <tr>\n",
       "      <th>5355</th>\n",
       "      <td>2006-04-04</td>\n",
       "      <td>12</td>\n",
       "      <td>F</td>\n",
       "      <td>34.0</td>\n",
       "      <td>White</td>\n",
       "      <td>Speeding</td>\n",
       "      <td>False</td>\n",
       "      <td>Citation</td>\n",
       "      <td>False</td>\n",
       "      <td>0-15 Min</td>\n",
       "      <td>False</td>\n",
       "    </tr>\n",
       "    <tr>\n",
       "      <th>70095</th>\n",
       "      <td>2013-07-04</td>\n",
       "      <td>14</td>\n",
       "      <td>M</td>\n",
       "      <td>40.0</td>\n",
       "      <td>Black</td>\n",
       "      <td>Speeding</td>\n",
       "      <td>False</td>\n",
       "      <td>Citation</td>\n",
       "      <td>False</td>\n",
       "      <td>16-30 Min</td>\n",
       "      <td>False</td>\n",
       "    </tr>\n",
       "    <tr>\n",
       "      <th>37822</th>\n",
       "      <td>2009-10-11</td>\n",
       "      <td>16</td>\n",
       "      <td>M</td>\n",
       "      <td>27.0</td>\n",
       "      <td>White</td>\n",
       "      <td>Registration Violation</td>\n",
       "      <td>True</td>\n",
       "      <td>Citation</td>\n",
       "      <td>False</td>\n",
       "      <td>0-15 Min</td>\n",
       "      <td>False</td>\n",
       "    </tr>\n",
       "  </tbody>\n",
       "</table>\n",
       "</div>"
      ],
      "text/plain": [
       "       stop_date  stop_time driver_gender  driver_age driver_race  \\\n",
       "5355  2006-04-04         12             F        34.0       White   \n",
       "70095 2013-07-04         14             M        40.0       Black   \n",
       "37822 2009-10-11         16             M        27.0       White   \n",
       "\n",
       "                    violation  search_conducted stop_outcome  is_arrested  \\\n",
       "5355                 Speeding             False     Citation        False   \n",
       "70095                Speeding             False     Citation        False   \n",
       "37822  Registration Violation              True     Citation        False   \n",
       "\n",
       "      stop_duration  drugs_related_stop  \n",
       "5355       0-15 Min               False  \n",
       "70095     16-30 Min               False  \n",
       "37822      0-15 Min               False  "
      ]
     },
     "execution_count": 164,
     "metadata": {},
     "output_type": "execute_result"
    }
   ],
   "source": [
    "df1.sample(3)"
   ]
  },
  {
   "cell_type": "code",
   "execution_count": 173,
   "id": "81af1def",
   "metadata": {},
   "outputs": [
    {
     "name": "stdout",
     "output_type": "stream",
     "text": [
      "\n",
      " The percentage of stop reasons which caused search conducted : \n"
     ]
    },
    {
     "data": {
      "text/plain": [
       "Speeding                          0.30\n",
       "Moving violation                  0.28\n",
       "Equipment/Inspection Violation    0.22\n",
       "Registration Violation            0.10\n",
       "Call for Service                  0.03\n",
       "Seatbelt Violation                0.03\n",
       "Other                             0.02\n",
       "Special Detail/Directed Patrol    0.01\n",
       "Name: violation, dtype: float64"
      ]
     },
     "execution_count": 173,
     "metadata": {},
     "output_type": "execute_result"
    }
   ],
   "source": [
    "print(\"\\n\",'The percentage of stop reasons which caused search conducted : ', flush = True)\n",
    "round(df1[df1.search_conducted == True].violation.value_counts(normalize = True),2)"
   ]
  },
  {
   "cell_type": "markdown",
   "id": "219d27fd",
   "metadata": {},
   "source": [
    "<br>"
   ]
  },
  {
   "cell_type": "markdown",
   "id": "a6ea93d5",
   "metadata": {},
   "source": [
    "## Stop Outcome"
   ]
  },
  {
   "cell_type": "code",
   "execution_count": 174,
   "id": "a4b1532c",
   "metadata": {},
   "outputs": [
    {
     "data": {
      "text/plain": [
       "Citation            77006\n",
       "Warning              5294\n",
       "Arrest Driver        2571\n",
       "N/D                   590\n",
       "No Action             589\n",
       "Arrest Passenger      358\n",
       "Name: stop_outcome, dtype: int64"
      ]
     },
     "execution_count": 174,
     "metadata": {},
     "output_type": "execute_result"
    }
   ],
   "source": [
    "df1.stop_outcome.value_counts()"
   ]
  },
  {
   "cell_type": "code",
   "execution_count": 175,
   "id": "3d8eb264",
   "metadata": {},
   "outputs": [
    {
     "data": {
      "text/plain": [
       "Citation            21088\n",
       "Warning              1514\n",
       "Arrest Driver         468\n",
       "No Action             186\n",
       "Arrest Passenger      128\n",
       "N/D                   127\n",
       "Name: stop_outcome, dtype: int64"
      ]
     },
     "execution_count": 175,
     "metadata": {},
     "output_type": "execute_result"
    }
   ],
   "source": [
    "female.stop_outcome.value_counts()"
   ]
  },
  {
   "cell_type": "code",
   "execution_count": 176,
   "id": "a1bd4d3d",
   "metadata": {},
   "outputs": [
    {
     "data": {
      "text/plain": [
       "Citation            55917\n",
       "Warning              3779\n",
       "Arrest Driver        2103\n",
       "N/D                   463\n",
       "No Action             403\n",
       "Arrest Passenger      230\n",
       "Name: stop_outcome, dtype: int64"
      ]
     },
     "execution_count": 176,
     "metadata": {},
     "output_type": "execute_result"
    }
   ],
   "source": [
    "male.stop_outcome.value_counts()"
   ]
  },
  {
   "cell_type": "code",
   "execution_count": 177,
   "id": "a67b37d8",
   "metadata": {},
   "outputs": [
    {
     "data": {
      "image/png": "[encoded data removed]",
      "text/plain": [
       "<Figure size 1008x432 with 1 Axes>"
      ]
     },
     "metadata": {
      "needs_background": "light"
     },
     "output_type": "display_data"
    }
   ],
   "source": [
    "plt.figure(figsize = (14,6))\n",
    "sns.countplot(df1.stop_outcome, order = df1.stop_outcome.value_counts().index, palette= 'husl', hue = df1.driver_gender)\n",
    "plt.xticks(rotation=45);"
   ]
  },
  {
   "cell_type": "markdown",
   "id": "1e3459d7",
   "metadata": {},
   "source": [
    "- Regardless of the type of outcome, male drivers come up with much higher value."
   ]
  },
  {
   "cell_type": "code",
   "execution_count": 180,
   "id": "4b311d3b",
   "metadata": {},
   "outputs": [
    {
     "data": {
      "text/plain": [
       "Speeding                          0.596759\n",
       "Moving violation                  0.179921\n",
       "Equipment/Inspection Violation    0.107641\n",
       "Registration Violation            0.037478\n",
       "Seatbelt Violation                0.032452\n",
       "Special Detail/Directed Patrol    0.031127\n",
       "Call for Service                  0.010571\n",
       "Other                             0.004052\n",
       "Name: violation, dtype: float64"
      ]
     },
     "execution_count": 180,
     "metadata": {},
     "output_type": "execute_result"
    }
   ],
   "source": [
    "df1[df1.stop_outcome == 'Citation'].violation.value_counts(normalize = True)"
   ]
  },
  {
   "cell_type": "markdown",
   "id": "bb5b0147",
   "metadata": {},
   "source": [
    "- Almost %60 of citation consints of drivers who got pulled over because of speeding."
   ]
  },
  {
   "cell_type": "code",
   "execution_count": 181,
   "id": "430e7fe7",
   "metadata": {},
   "outputs": [
    {
     "data": {
      "text/plain": [
       "Moving violation                  0.316219\n",
       "Speeding                          0.226760\n",
       "Equipment/Inspection Violation    0.190976\n",
       "Registration Violation            0.117464\n",
       "Call for Service                  0.096461\n",
       "Other                             0.024893\n",
       "Seatbelt Violation                0.021392\n",
       "Special Detail/Directed Patrol    0.005834\n",
       "Name: violation, dtype: float64"
      ]
     },
     "execution_count": 181,
     "metadata": {},
     "output_type": "execute_result"
    }
   ],
   "source": [
    "df1[df1.stop_outcome == 'Arrest Driver'].violation.value_counts(normalize = True)"
   ]
  },
  {
   "cell_type": "code",
   "execution_count": 184,
   "id": "df89e571",
   "metadata": {},
   "outputs": [
    {
     "data": {
      "text/plain": [
       "Citation            0.853982\n",
       "Warning             0.082840\n",
       "Arrest Driver       0.050111\n",
       "Arrest Passenger    0.005979\n",
       "No Action           0.004684\n",
       "N/D                 0.002404\n",
       "Name: stop_outcome, dtype: float64"
      ]
     },
     "execution_count": 184,
     "metadata": {},
     "output_type": "execute_result"
    }
   ],
   "source": [
    "df1[df1.violation == 'Moving violation'].stop_outcome.value_counts(normalize = True)"
   ]
  },
  {
   "cell_type": "markdown",
   "id": "68b2ab66",
   "metadata": {},
   "source": [
    "<br><br>\n",
    "- As the results above demonstrates, while %30 of arrested drivers consist of moving violation, %85 of people who got stopped because of moving violation end up getting arrested.<br><br>"
   ]
  },
  {
   "cell_type": "code",
   "execution_count": 186,
   "id": "73254763",
   "metadata": {},
   "outputs": [
    {
     "data": {
      "text/plain": [
       "M    0.81797\n",
       "F    0.18203\n",
       "Name: driver_gender, dtype: float64"
      ]
     },
     "execution_count": 186,
     "metadata": {},
     "output_type": "execute_result"
    }
   ],
   "source": [
    "df1[df1.stop_outcome == 'Arrest Driver'].driver_gender.value_counts(normalize = True)"
   ]
  },
  {
   "cell_type": "code",
   "execution_count": 208,
   "id": "eeb3aeaa",
   "metadata": {},
   "outputs": [
    {
     "data": {
      "image/png": "[encoded data removed]",
      "text/plain": [
       "<Figure size 1080x432 with 1 Axes>"
      ]
     },
     "metadata": {},
     "output_type": "display_data"
    }
   ],
   "source": [
    "colors = [ 'gold', 'lightcoral']\n",
    "plt.figure(figsize = (15,6))\n",
    "plt.pie(df1[df1.stop_outcome == 'Arrest Driver'].driver_gender.value_counts(), \n",
    "        labels =df1[df1.stop_outcome == 'Arrest Driver'].driver_gender.value_counts().index, \n",
    "        colors = ['lightskyblue', 'pink'],\n",
    "       autopct='%.1f%%');"
   ]
  },
  {
   "cell_type": "markdown",
   "id": "942f190e",
   "metadata": {},
   "source": [
    "- %82 of arrested drivers are male drivers while only %18 is female ."
   ]
  },
  {
   "cell_type": "markdown",
   "id": "d5b6fb1f",
   "metadata": {},
   "source": [
    "<br>"
   ]
  },
  {
   "cell_type": "markdown",
   "id": "2ccca794",
   "metadata": {},
   "source": [
    "## Stop Duration"
   ]
  },
  {
   "cell_type": "code",
   "execution_count": 209,
   "id": "ada73ba7",
   "metadata": {},
   "outputs": [
    {
     "data": {
      "text/plain": [
       "0-15 Min     69543\n",
       "16-30 Min    13635\n",
       "30+ Min       3228\n",
       "2                1\n",
       "1                1\n",
       "Name: stop_duration, dtype: int64"
      ]
     },
     "execution_count": 209,
     "metadata": {},
     "output_type": "execute_result"
    }
   ],
   "source": [
    "df1.stop_duration.value_counts()"
   ]
  },
  {
   "cell_type": "code",
   "execution_count": 210,
   "id": "0c1e907b",
   "metadata": {},
   "outputs": [
    {
     "data": {
      "text/plain": [
       "0-15 Min     19724\n",
       "16-30 Min     3390\n",
       "30+ Min        396\n",
       "1                1\n",
       "Name: stop_duration, dtype: int64"
      ]
     },
     "execution_count": 210,
     "metadata": {},
     "output_type": "execute_result"
    }
   ],
   "source": [
    "female.stop_duration.value_counts()"
   ]
  },
  {
   "cell_type": "code",
   "execution_count": 211,
   "id": "2e08a3ba",
   "metadata": {},
   "outputs": [
    {
     "data": {
      "text/plain": [
       "0-15 Min     49817\n",
       "16-30 Min    10245\n",
       "30+ Min       2832\n",
       "2                1\n",
       "Name: stop_duration, dtype: int64"
      ]
     },
     "execution_count": 211,
     "metadata": {},
     "output_type": "execute_result"
    }
   ],
   "source": [
    "male.stop_duration.value_counts()"
   ]
  },
  {
   "cell_type": "code",
   "execution_count": 212,
   "id": "b3ce4e58",
   "metadata": {},
   "outputs": [
    {
     "data": {
      "image/png": "[encoded data removed]",
      "text/plain": [
       "<Figure size 1008x432 with 1 Axes>"
      ]
     },
     "metadata": {
      "needs_background": "light"
     },
     "output_type": "display_data"
    }
   ],
   "source": [
    "plt.figure(figsize = (14,6))\n",
    "sns.countplot(df1.stop_duration, order = df1.stop_duration.value_counts().index, palette= 'husl', hue = df1.driver_gender)\n",
    "plt.xticks(rotation=45);"
   ]
  },
  {
   "cell_type": "markdown",
   "id": "82cf4782",
   "metadata": {},
   "source": [
    "<br>"
   ]
  },
  {
   "cell_type": "markdown",
   "id": "920b0569",
   "metadata": {},
   "source": [
    "## Drug Related Stop"
   ]
  },
  {
   "cell_type": "code",
   "execution_count": 238,
   "id": "524aaf28",
   "metadata": {},
   "outputs": [
    {
     "data": {
      "text/plain": [
       "False    0.991116\n",
       "True     0.008884\n",
       "Name: drugs_related_stop, dtype: float64"
      ]
     },
     "execution_count": 238,
     "metadata": {},
     "output_type": "execute_result"
    }
   ],
   "source": [
    "df1.drugs_related_stop.value_counts(normalize = True)"
   ]
  },
  {
   "cell_type": "code",
   "execution_count": 240,
   "id": "81f9a870",
   "metadata": {},
   "outputs": [
    {
     "data": {
      "text/plain": [
       "Citation            551\n",
       "Arrest Driver       170\n",
       "Arrest Passenger     41\n",
       "Warning              33\n",
       "No Action            13\n",
       "N/D                   7\n",
       "Name: stop_outcome, dtype: int64"
      ]
     },
     "execution_count": 240,
     "metadata": {},
     "output_type": "execute_result"
    }
   ],
   "source": [
    "df1[df1.drugs_related_stop == True].stop_outcome.value_counts()"
   ]
  },
  {
   "cell_type": "markdown",
   "id": "821c100e",
   "metadata": {},
   "source": [
    "- This is so weird because even though many of drug related stops got arrested or got citation some of them only got warning even some got no action. Driving while  impaired by drug is illegal and it is highly dangerous for both the driver in-question and the other drivers. In my point of view the police officers shouldn't have let them go, like nothing happened."
   ]
  },
  {
   "cell_type": "code",
   "execution_count": 246,
   "id": "5e68b445",
   "metadata": {},
   "outputs": [
    {
     "data": {
      "text/plain": [
       "Citation            0.676074\n",
       "Arrest Driver       0.208589\n",
       "Arrest Passenger    0.050307\n",
       "Warning             0.040491\n",
       "No Action           0.015951\n",
       "N/D                 0.008589\n",
       "Name: stop_outcome, dtype: float64"
      ]
     },
     "execution_count": 246,
     "metadata": {},
     "output_type": "execute_result"
    }
   ],
   "source": [
    "df1[df1.drugs_related_stop == True].stop_outcome.value_counts(normalize = True)"
   ]
  },
  {
   "cell_type": "code",
   "execution_count": 244,
   "id": "c5f64a22",
   "metadata": {},
   "outputs": [
    {
     "data": {
      "image/png": "[encoded data removed]",
      "text/plain": [
       "<Figure size 1008x432 with 1 Axes>"
      ]
     },
     "metadata": {
      "needs_background": "light"
     },
     "output_type": "display_data"
    }
   ],
   "source": [
    "plt.figure(figsize = (14,6))\n",
    "sns.countplot(df1[df1.drugs_related_stop == True].stop_outcome, order = df1[df1.drugs_related_stop == True].stop_outcome.value_counts().index, palette= 'husl', hue = df1.driver_gender)\n",
    "plt.xticks(rotation=45);"
   ]
  },
  {
   "cell_type": "code",
   "execution_count": 248,
   "id": "90bc8c2d",
   "metadata": {},
   "outputs": [
    {
     "data": {
      "text/plain": [
       "Citation            64\n",
       "Arrest Driver       14\n",
       "Arrest Passenger    11\n",
       "Warning              6\n",
       "N/D                  1\n",
       "Name: stop_outcome, dtype: int64"
      ]
     },
     "execution_count": 248,
     "metadata": {},
     "output_type": "execute_result"
    }
   ],
   "source": [
    "female[female.drugs_related_stop == True].stop_outcome.value_counts()"
   ]
  },
  {
   "cell_type": "code",
   "execution_count": 250,
   "id": "5c9005a6",
   "metadata": {},
   "outputs": [
    {
     "data": {
      "text/plain": [
       "Citation            487\n",
       "Arrest Driver       156\n",
       "Arrest Passenger     30\n",
       "Warning              27\n",
       "No Action            13\n",
       "N/D                   6\n",
       "Name: stop_outcome, dtype: int64"
      ]
     },
     "execution_count": 250,
     "metadata": {},
     "output_type": "execute_result"
    }
   ],
   "source": [
    "male[male.drugs_related_stop == True].stop_outcome.value_counts()"
   ]
  },
  {
   "cell_type": "markdown",
   "id": "16082739",
   "metadata": {},
   "source": [
    "<br>"
   ]
  },
  {
   "cell_type": "markdown",
   "id": "6bbf1e64",
   "metadata": {},
   "source": [
    "Here is the end of my study. I have learned and enjoyed a lot while studying it. I hope you feel the same way! \n",
    "<br><br>Thank you for coming through all the way to the end ! \n",
    "<br><br>Please let me know about your thoughts!"
   ]
  },
  {
   "cell_type": "markdown",
   "id": "8b3a5c29",
   "metadata": {},
   "source": [
    "---"
   ]
  }
 ],
 "metadata": {
  "kernelspec": {
   "display_name": "Python 3",
   "language": "python",
   "name": "python3"
  },
  "language_info": {
   "codemirror_mode": {
    "name": "ipython",
    "version": 3
   },
   "file_extension": ".py",
   "mimetype": "text/x-python",
   "name": "python",
   "nbconvert_exporter": "python",
   "pygments_lexer": "ipython3",
   "version": "3.8.8"
  }
 },
 "nbformat": 4,
 "nbformat_minor": 5
}
